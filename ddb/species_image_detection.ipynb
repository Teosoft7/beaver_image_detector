{
 "cells": [
  {
   "cell_type": "markdown",
   "metadata": {},
   "source": [
    "# Species Image Detection"
   ]
  },
  {
   "cell_type": "markdown",
   "metadata": {},
   "source": [
    "Of the three models I evaluated, the .. performed the best with an mAP of .. so I used it's frozen inference graph in the detection_functions.py script. \n",
    "\n",
    "To test from this notebook, I added some new images from the wildlife cameras to the test_images folder. To check them out, run the following cells."
   ]
  },
  {
   "cell_type": "markdown",
   "metadata": {},
   "source": [
    "## Import libraries"
   ]
  },
  {
   "cell_type": "code",
   "execution_count": 1,
   "metadata": {},
   "outputs": [
    {
     "name": "stderr",
     "output_type": "stream",
     "text": [
      "WARNING: Logging before flag parsing goes to stderr.\n",
      "W0709 13:11:02.858585 4441109952 deprecation_wrapper.py:119] From /anaconda3/envs/learn-env/lib/python3.7/site-packages/object_detection-0.1-py3.7.egg/object_detection/utils/label_map_util.py:132: The name tf.gfile.GFile is deprecated. Please use tf.io.gfile.GFile instead.\n",
      "\n"
     ]
    }
   ],
   "source": [
    "from model_functions.detection_functions import load_model_to_memory\n",
    "from model_functions.detection_functions import load_image_into_numpy_array\n",
    "from model_functions.detection_functions import run_inference_for_single_image\n",
    "from model_functions.detection_functions import predict_image\n",
    "\n",
    "%reload_ext autoreload\n",
    "%autoreload 2\n",
    "\n",
    "%matplotlib inline"
   ]
  },
  {
   "cell_type": "markdown",
   "metadata": {},
   "source": [
    "## Object Detection"
   ]
  },
  {
   "cell_type": "code",
   "execution_count": 2,
   "metadata": {},
   "outputs": [],
   "source": [
    "# Paths to test images\n",
    "paths_to_test_images = ['test_images/image{}.jpg'.format(i)\n",
    "                        for i in range(1, 10) ]\n",
    "\n",
    "for image_path in paths_to_test_images:\n",
    "    predict_image(image_path)\n",
    "    "
   ]
  },
  {
   "cell_type": "markdown",
   "metadata": {},
   "source": [
    "<img src=test.jpg>"
   ]
  },
  {
   "cell_type": "markdown",
   "metadata": {},
   "source": [
    "I also built a web app that takes in jpg image urls called duckduckbeaver.com (all work for it may be found in the web_app directory). "
   ]
  }
 ],
 "metadata": {
  "kernelspec": {
   "display_name": "learn-env",
   "language": "python",
   "name": "learn-env"
  },
  "language_info": {
   "codemirror_mode": {
    "name": "ipython",
    "version": 3
   },
   "file_extension": ".py",
   "mimetype": "text/x-python",
   "name": "python",
   "nbconvert_exporter": "python",
   "pygments_lexer": "ipython3",
   "version": "3.7.3"
  }
 },
 "nbformat": 4,
 "nbformat_minor": 2
}
