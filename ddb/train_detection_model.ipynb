{
 "cells": [
  {
   "cell_type": "markdown",
   "metadata": {},
   "source": [
    "# Train Detection Model\n",
    "\n",
    "I used transfer learning with different models from [Tensorflow's detection model zoo](https://github.com/tensorflow/models/blob/master/research/object_detection/g3doc/detection_model_zoo.md) to train my detection model. I started with the ssd_inception_v2_coco model for proof of concept with the Tensorflow Object Detection API Tutorial, which notes that it has a nice tradeoff between performance and speed. I also tried the faster_rcnn_resnet101_fgvc model, which is trained on the iNaturalist Species dataset and the faster_rcnn_inception_resnet_v2_atrous_oidv2 model, which is trained on Open Images dataset. The ssd_inception_v2_coco model is trained on the COCO dataset. \n",
    "\n",
    "After untracking my pre_trained_model directory from GitHub (the files are big), to get the pipeline for each model I downloaded the * .tar.gz file from Tensorflow's detection model zoo and extracted the contents into a folder in my pre_trained_model directory. "
   ]
  },
  {
   "cell_type": "code",
   "execution_count": null,
   "metadata": {},
   "outputs": [],
   "source": []
  }
 ],
 "metadata": {
  "kernelspec": {
   "display_name": "learn-env",
   "language": "python",
   "name": "learn-env"
  },
  "language_info": {
   "codemirror_mode": {
    "name": "ipython",
    "version": 3
   },
   "file_extension": ".py",
   "mimetype": "text/x-python",
   "name": "python",
   "nbconvert_exporter": "python",
   "pygments_lexer": "ipython3",
   "version": "3.7.3"
  }
 },
 "nbformat": 4,
 "nbformat_minor": 2
}
