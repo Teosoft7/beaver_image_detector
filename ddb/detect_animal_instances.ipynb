{
 "cells": [
  {
   "cell_type": "markdown",
   "metadata": {},
   "source": [
    "# Import libraries"
   ]
  },
  {
   "cell_type": "code",
   "execution_count": 1,
   "metadata": {},
   "outputs": [
    {
     "name": "stderr",
     "output_type": "stream",
     "text": [
      "WARNING: Logging before flag parsing goes to stderr.\n",
      "W0709 13:11:02.858585 4441109952 deprecation_wrapper.py:119] From /anaconda3/envs/learn-env/lib/python3.7/site-packages/object_detection-0.1-py3.7.egg/object_detection/utils/label_map_util.py:132: The name tf.gfile.GFile is deprecated. Please use tf.io.gfile.GFile instead.\n",
      "\n"
     ]
    }
   ],
   "source": [
    "# import numpy as np\n",
    "# import os\n",
    "# import sys\n",
    "# import tensorflow as tf\n",
    "\n",
    "# from object_detection.utils import ops as utils_ops\n",
    "# from object_detection.utils import label_map_util\n",
    "# from object_detection.utils import visualization_utils as vis_util\n",
    "# from distutils.version import StrictVersion\n",
    "# from collections import defaultdict\n",
    "\n",
    "# from io import StringIO\n",
    "\n",
    "# import matplotlib\n",
    "# from matplotlib import pyplot as plt\n",
    "# from matplotlib import image as mpimg\n",
    "# from PIL import Image\n",
    "# from PIL import ImageFont\n",
    "\n",
    "from model_functions.detection_functions import load_model_to_memory\n",
    "from model_functions.detection_functions import load_image_into_numpy_array\n",
    "from model_functions.detection_functions import run_inference_for_single_image\n",
    "from model_functions.detection_functions import display_prediction\n",
    "\n",
    "%reload_ext autoreload\n",
    "%autoreload 2\n",
    "\n",
    "%matplotlib inline"
   ]
  },
  {
   "cell_type": "markdown",
   "metadata": {},
   "source": [
    "# Prepare Model"
   ]
  },
  {
   "cell_type": "markdown",
   "metadata": {},
   "source": [
    "## Object Detection"
   ]
  },
  {
   "cell_type": "code",
   "execution_count": 2,
   "metadata": {},
   "outputs": [],
   "source": [
    "# Paths to test images\n",
    "paths_to_test_images = ['test_images/image{}.jpg'.format(i)\n",
    "                        for i in range(1, 2) ]\n",
    "\n",
    "for image_path in paths_to_test_images:\n",
    "    display_prediction(image_path)"
   ]
  },
  {
   "cell_type": "markdown",
   "metadata": {},
   "source": [
    "<img src=test.jpg>"
   ]
  },
  {
   "cell_type": "code",
   "execution_count": null,
   "metadata": {},
   "outputs": [],
   "source": []
  }
 ],
 "metadata": {
  "kernelspec": {
   "display_name": "learn-env",
   "language": "python",
   "name": "learn-env"
  },
  "language_info": {
   "codemirror_mode": {
    "name": "ipython",
    "version": 3
   },
   "file_extension": ".py",
   "mimetype": "text/x-python",
   "name": "python",
   "nbconvert_exporter": "python",
   "pygments_lexer": "ipython3",
   "version": "3.7.3"
  }
 },
 "nbformat": 4,
 "nbformat_minor": 2
}
